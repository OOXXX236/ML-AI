{
 "cells": [
  {
   "cell_type": "code",
   "execution_count": 16,
   "id": "72479b58",
   "metadata": {},
   "outputs": [
    {
     "name": "stdout",
     "output_type": "stream",
     "text": [
      "/c/Users/sarawute/Desktop/6DRepNet\n"
     ]
    }
   ],
   "source": [
    "!pwd"
   ]
  },
  {
   "cell_type": "code",
   "execution_count": 17,
   "id": "3b784523",
   "metadata": {},
   "outputs": [
    {
     "name": "stdout",
     "output_type": "stream",
     "text": [
      "C:\\Users\\sarawute\\Desktop\\6DRepNet\n"
     ]
    }
   ],
   "source": [
    "# goto path 6DRepNet\n",
    "%cd 6DRepNet"
   ]
  },
  {
   "cell_type": "code",
   "execution_count": 18,
   "id": "8edece1d",
   "metadata": {},
   "outputs": [],
   "source": [
    "!venv\\Scripts\\activate"
   ]
  },
  {
   "cell_type": "code",
   "execution_count": 19,
   "id": "09e95100",
   "metadata": {},
   "outputs": [
    {
     "name": "stdout",
     "output_type": "stream",
     "text": [
      "Requirement already satisfied: numpy in c:\\users\\sarawute\\anaconda3\\envs\\aisproject\\lib\\site-packages (from -r requirements1.txt (line 1)) (1.23.1)\n",
      "Requirement already satisfied: torch in c:\\users\\sarawute\\anaconda3\\envs\\aisproject\\lib\\site-packages (from -r requirements1.txt (line 2)) (1.12.0)\n",
      "Requirement already satisfied: torchvision in c:\\users\\sarawute\\anaconda3\\envs\\aisproject\\lib\\site-packages (from -r requirements1.txt (line 3)) (0.13.0)\n",
      "Requirement already satisfied: typing-extensions in c:\\users\\sarawute\\anaconda3\\envs\\aisproject\\lib\\site-packages (from torch->-r requirements1.txt (line 2)) (4.1.1)\n",
      "Requirement already satisfied: requests in c:\\users\\sarawute\\anaconda3\\envs\\aisproject\\lib\\site-packages (from torchvision->-r requirements1.txt (line 3)) (2.28.1)\n",
      "Requirement already satisfied: pillow!=8.3.*,>=5.3.0 in c:\\users\\sarawute\\anaconda3\\envs\\aisproject\\lib\\site-packages (from torchvision->-r requirements1.txt (line 3)) (9.2.0)\n",
      "Requirement already satisfied: charset-normalizer<3,>=2 in c:\\users\\sarawute\\anaconda3\\envs\\aisproject\\lib\\site-packages (from requests->torchvision->-r requirements1.txt (line 3)) (2.0.4)\n",
      "Requirement already satisfied: idna<4,>=2.5 in c:\\users\\sarawute\\anaconda3\\envs\\aisproject\\lib\\site-packages (from requests->torchvision->-r requirements1.txt (line 3)) (3.3)\n",
      "Requirement already satisfied: urllib3<1.27,>=1.21.1 in c:\\users\\sarawute\\anaconda3\\envs\\aisproject\\lib\\site-packages (from requests->torchvision->-r requirements1.txt (line 3)) (1.26.9)\n",
      "Requirement already satisfied: certifi>=2017.4.17 in c:\\users\\sarawute\\anaconda3\\envs\\aisproject\\lib\\site-packages (from requests->torchvision->-r requirements1.txt (line 3)) (2022.6.15)\n"
     ]
    }
   ],
   "source": [
    "!pip install -r requirements1.txt"
   ]
  },
  {
   "cell_type": "code",
   "execution_count": 20,
   "id": "7cdb725b",
   "metadata": {},
   "outputs": [
    {
     "name": "stdout",
     "output_type": "stream",
     "text": [
      "^C\n"
     ]
    }
   ],
   "source": [
    "!pip install git+https://github.com/elliottzheng/face-detection.git@master"
   ]
  },
  {
   "cell_type": "code",
   "execution_count": 21,
   "id": "2d8ffbbe",
   "metadata": {},
   "outputs": [
    {
     "name": "stdout",
     "output_type": "stream",
     "text": [
      "Requirement already satisfied: scipy in c:\\users\\sarawute\\anaconda3\\envs\\aisproject\\lib\\site-packages (1.8.1)\n",
      "Requirement already satisfied: numpy<1.25.0,>=1.17.3 in c:\\users\\sarawute\\anaconda3\\envs\\aisproject\\lib\\site-packages (from scipy) (1.23.1)\n"
     ]
    }
   ],
   "source": [
    "!pip install scipy"
   ]
  },
  {
   "cell_type": "code",
   "execution_count": 22,
   "id": "518f1fc3",
   "metadata": {},
   "outputs": [
    {
     "name": "stderr",
     "output_type": "stream",
     "text": [
      "  Running command git clone --filter=blob:none --quiet https://github.com/elliottzheng/face-detection.git 'C:\\Users\\sarawute\\AppData\\Local\\Temp\\pip-req-build-equnluo3'\n"
     ]
    },
    {
     "name": "stdout",
     "output_type": "stream",
     "text": [
      "Collecting git+https://github.com/elliottzheng/face-detection.git@master\n",
      "  Cloning https://github.com/elliottzheng/face-detection.git (to revision master) to c:\\users\\sarawute\\appdata\\local\\temp\\pip-req-build-equnluo3\n",
      "  Resolved https://github.com/elliottzheng/face-detection.git to commit 096cbf438dab07a313dac3044653d211725d64ba\n",
      "  Preparing metadata (setup.py): started\n",
      "  Preparing metadata (setup.py): finished with status 'done'\n",
      "Requirement already satisfied: numpy in c:\\users\\sarawute\\anaconda3\\envs\\aisproject\\lib\\site-packages (from face-detection==1.0.5) (1.23.1)\n",
      "Requirement already satisfied: torch in c:\\users\\sarawute\\anaconda3\\envs\\aisproject\\lib\\site-packages (from face-detection==1.0.5) (1.12.0)\n",
      "Requirement already satisfied: torchvision in c:\\users\\sarawute\\anaconda3\\envs\\aisproject\\lib\\site-packages (from face-detection==1.0.5) (0.13.0)\n",
      "Requirement already satisfied: typing-extensions in c:\\users\\sarawute\\anaconda3\\envs\\aisproject\\lib\\site-packages (from torch->face-detection==1.0.5) (4.1.1)\n",
      "Requirement already satisfied: pillow!=8.3.*,>=5.3.0 in c:\\users\\sarawute\\anaconda3\\envs\\aisproject\\lib\\site-packages (from torchvision->face-detection==1.0.5) (9.2.0)\n",
      "Requirement already satisfied: requests in c:\\users\\sarawute\\anaconda3\\envs\\aisproject\\lib\\site-packages (from torchvision->face-detection==1.0.5) (2.28.1)\n",
      "Requirement already satisfied: charset-normalizer<3,>=2 in c:\\users\\sarawute\\anaconda3\\envs\\aisproject\\lib\\site-packages (from requests->torchvision->face-detection==1.0.5) (2.0.4)\n",
      "Requirement already satisfied: certifi>=2017.4.17 in c:\\users\\sarawute\\anaconda3\\envs\\aisproject\\lib\\site-packages (from requests->torchvision->face-detection==1.0.5) (2022.6.15)\n",
      "Requirement already satisfied: urllib3<1.27,>=1.21.1 in c:\\users\\sarawute\\anaconda3\\envs\\aisproject\\lib\\site-packages (from requests->torchvision->face-detection==1.0.5) (1.26.9)\n",
      "Requirement already satisfied: idna<4,>=2.5 in c:\\users\\sarawute\\anaconda3\\envs\\aisproject\\lib\\site-packages (from requests->torchvision->face-detection==1.0.5) (3.3)\n",
      "Requirement already satisfied: opencv-python in c:\\users\\sarawute\\anaconda3\\envs\\aisproject\\lib\\site-packages (4.6.0.66)\n",
      "Requirement already satisfied: numpy>=1.17.3 in c:\\users\\sarawute\\anaconda3\\envs\\aisproject\\lib\\site-packages (from opencv-python) (1.23.1)\n"
     ]
    }
   ],
   "source": [
    "!pip install opencv-python"
   ]
  },
  {
   "cell_type": "code",
   "execution_count": 23,
   "id": "5a23dd81",
   "metadata": {},
   "outputs": [
    {
     "name": "stdout",
     "output_type": "stream",
     "text": [
      "Requirement already satisfied: matplotlib in c:\\users\\sarawute\\anaconda3\\envs\\aisproject\\lib\\site-packages (3.5.2)\n",
      "Requirement already satisfied: fonttools>=4.22.0 in c:\\users\\sarawute\\anaconda3\\envs\\aisproject\\lib\\site-packages (from matplotlib) (4.34.4)\n",
      "Requirement already satisfied: kiwisolver>=1.0.1 in c:\\users\\sarawute\\anaconda3\\envs\\aisproject\\lib\\site-packages (from matplotlib) (1.4.4)\n",
      "Requirement already satisfied: pillow>=6.2.0 in c:\\users\\sarawute\\anaconda3\\envs\\aisproject\\lib\\site-packages (from matplotlib) (9.2.0)\n",
      "Requirement already satisfied: cycler>=0.10 in c:\\users\\sarawute\\anaconda3\\envs\\aisproject\\lib\\site-packages (from matplotlib) (0.11.0)\n",
      "Requirement already satisfied: pyparsing>=2.2.1 in c:\\users\\sarawute\\anaconda3\\envs\\aisproject\\lib\\site-packages (from matplotlib) (3.0.9)\n",
      "Requirement already satisfied: packaging>=20.0 in c:\\users\\sarawute\\anaconda3\\envs\\aisproject\\lib\\site-packages (from matplotlib) (21.3)\n",
      "Requirement already satisfied: python-dateutil>=2.7 in c:\\users\\sarawute\\anaconda3\\envs\\aisproject\\lib\\site-packages (from matplotlib) (2.8.2)\n",
      "Requirement already satisfied: numpy>=1.17 in c:\\users\\sarawute\\anaconda3\\envs\\aisproject\\lib\\site-packages (from matplotlib) (1.23.1)\n",
      "Requirement already satisfied: six>=1.5 in c:\\users\\sarawute\\anaconda3\\envs\\aisproject\\lib\\site-packages (from python-dateutil>=2.7->matplotlib) (1.16.0)\n"
     ]
    }
   ],
   "source": [
    "!pip install matplotlib"
   ]
  },
  {
   "cell_type": "code",
   "execution_count": 24,
   "id": "cebc0841",
   "metadata": {},
   "outputs": [],
   "source": [
    "!python demo.py  --snapshot 6DRepNet_300W_LP_AFLW2000.pth --cam 0"
   ]
  },
  {
   "cell_type": "code",
   "execution_count": null,
   "id": "4059e256",
   "metadata": {},
   "outputs": [],
   "source": []
  }
 ],
 "metadata": {
  "kernelspec": {
   "display_name": "Ais2",
   "language": "python",
   "name": "ais2"
  },
  "language_info": {
   "codemirror_mode": {
    "name": "ipython",
    "version": 3
   },
   "file_extension": ".py",
   "mimetype": "text/x-python",
   "name": "python",
   "nbconvert_exporter": "python",
   "pygments_lexer": "ipython3",
   "version": "3.10.5"
  }
 },
 "nbformat": 4,
 "nbformat_minor": 5
}
