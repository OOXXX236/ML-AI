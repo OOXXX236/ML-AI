{
 "cells": [
  {
   "cell_type": "code",
   "execution_count": 25,
   "id": "72479b58",
   "metadata": {},
   "outputs": [
    {
     "name": "stdout",
     "output_type": "stream",
     "text": [
      "/c/Users/sarawute/Desktop/6DRepNet\n"
     ]
    }
   ],
   "source": [
    "!pwd"
   ]
  },
  {
   "cell_type": "code",
   "execution_count": 31,
   "id": "3b784523",
   "metadata": {},
   "outputs": [
    {
     "name": "stdout",
     "output_type": "stream",
     "text": [
      "C:\\Users\\sarawute\\Desktop\\6DRepNet\n"
     ]
    }
   ],
   "source": [
    "# goto path 6DRepNet\n",
    "%cd C:\\Users\\sarawute\\Desktop\\6DRepNet"
   ]
  },
  {
   "cell_type": "code",
   "execution_count": 18,
   "id": "8edece1d",
   "metadata": {},
   "outputs": [],
   "source": [
    "!venv\\Scripts\\activate"
   ]
  },
  {
   "cell_type": "code",
   "execution_count": 19,
   "id": "09e95100",
   "metadata": {},
   "outputs": [
    {
     "name": "stdout",
     "output_type": "stream",
     "text": [
      "Requirement already satisfied: numpy in c:\\users\\sarawute\\anaconda3\\envs\\aisproject\\lib\\site-packages (from -r requirements1.txt (line 1)) (1.23.1)\n",
      "Requirement already satisfied: torch in c:\\users\\sarawute\\anaconda3\\envs\\aisproject\\lib\\site-packages (from -r requirements1.txt (line 2)) (1.12.0)\n",
      "Requirement already satisfied: torchvision in c:\\users\\sarawute\\anaconda3\\envs\\aisproject\\lib\\site-packages (from -r requirements1.txt (line 3)) (0.13.0)\n",
      "Requirement already satisfied: typing-extensions in c:\\users\\sarawute\\anaconda3\\envs\\aisproject\\lib\\site-packages (from torch->-r requirements1.txt (line 2)) (4.1.1)\n",
      "Requirement already satisfied: requests in c:\\users\\sarawute\\anaconda3\\envs\\aisproject\\lib\\site-packages (from torchvision->-r requirements1.txt (line 3)) (2.28.1)\n",
      "Requirement already satisfied: pillow!=8.3.*,>=5.3.0 in c:\\users\\sarawute\\anaconda3\\envs\\aisproject\\lib\\site-packages (from torchvision->-r requirements1.txt (line 3)) (9.2.0)\n",
      "Requirement already satisfied: charset-normalizer<3,>=2 in c:\\users\\sarawute\\anaconda3\\envs\\aisproject\\lib\\site-packages (from requests->torchvision->-r requirements1.txt (line 3)) (2.0.4)\n",
      "Requirement already satisfied: idna<4,>=2.5 in c:\\users\\sarawute\\anaconda3\\envs\\aisproject\\lib\\site-packages (from requests->torchvision->-r requirements1.txt (line 3)) (3.3)\n",
      "Requirement already satisfied: urllib3<1.27,>=1.21.1 in c:\\users\\sarawute\\anaconda3\\envs\\aisproject\\lib\\site-packages (from requests->torchvision->-r requirements1.txt (line 3)) (1.26.9)\n",
      "Requirement already satisfied: certifi>=2017.4.17 in c:\\users\\sarawute\\anaconda3\\envs\\aisproject\\lib\\site-packages (from requests->torchvision->-r requirements1.txt (line 3)) (2022.6.15)\n"
     ]
    }
   ],
   "source": [
    "!pip install -r requirements1.txt"
   ]
  },
  {
   "cell_type": "code",
   "execution_count": 20,
   "id": "7cdb725b",
   "metadata": {},
   "outputs": [
    {
     "name": "stdout",
     "output_type": "stream",
     "text": [
      "^C\n"
     ]
    }
   ],
   "source": [
    "!pip install git+https://github.com/elliottzheng/face-detection.git@master"
   ]
  },
  {
   "cell_type": "code",
   "execution_count": 21,
   "id": "2d8ffbbe",
   "metadata": {},
   "outputs": [
    {
     "name": "stdout",
     "output_type": "stream",
     "text": [
      "Requirement already satisfied: scipy in c:\\users\\sarawute\\anaconda3\\envs\\aisproject\\lib\\site-packages (1.8.1)\n",
      "Requirement already satisfied: numpy<1.25.0,>=1.17.3 in c:\\users\\sarawute\\anaconda3\\envs\\aisproject\\lib\\site-packages (from scipy) (1.23.1)\n"
     ]
    }
   ],
   "source": [
    "!pip install scipy"
   ]
  },
  {
   "cell_type": "code",
   "execution_count": 22,
   "id": "518f1fc3",
   "metadata": {},
   "outputs": [
    {
     "name": "stderr",
     "output_type": "stream",
     "text": [
      "  Running command git clone --filter=blob:none --quiet https://github.com/elliottzheng/face-detection.git 'C:\\Users\\sarawute\\AppData\\Local\\Temp\\pip-req-build-equnluo3'\n"
     ]
    },
    {
     "name": "stdout",
     "output_type": "stream",
     "text": [
      "Collecting git+https://github.com/elliottzheng/face-detection.git@master\n",
      "  Cloning https://github.com/elliottzheng/face-detection.git (to revision master) to c:\\users\\sarawute\\appdata\\local\\temp\\pip-req-build-equnluo3\n",
      "  Resolved https://github.com/elliottzheng/face-detection.git to commit 096cbf438dab07a313dac3044653d211725d64ba\n",
      "  Preparing metadata (setup.py): started\n",
      "  Preparing metadata (setup.py): finished with status 'done'\n",
      "Requirement already satisfied: numpy in c:\\users\\sarawute\\anaconda3\\envs\\aisproject\\lib\\site-packages (from face-detection==1.0.5) (1.23.1)\n",
      "Requirement already satisfied: torch in c:\\users\\sarawute\\anaconda3\\envs\\aisproject\\lib\\site-packages (from face-detection==1.0.5) (1.12.0)\n",
      "Requirement already satisfied: torchvision in c:\\users\\sarawute\\anaconda3\\envs\\aisproject\\lib\\site-packages (from face-detection==1.0.5) (0.13.0)\n",
      "Requirement already satisfied: typing-extensions in c:\\users\\sarawute\\anaconda3\\envs\\aisproject\\lib\\site-packages (from torch->face-detection==1.0.5) (4.1.1)\n",
      "Requirement already satisfied: pillow!=8.3.*,>=5.3.0 in c:\\users\\sarawute\\anaconda3\\envs\\aisproject\\lib\\site-packages (from torchvision->face-detection==1.0.5) (9.2.0)\n",
      "Requirement already satisfied: requests in c:\\users\\sarawute\\anaconda3\\envs\\aisproject\\lib\\site-packages (from torchvision->face-detection==1.0.5) (2.28.1)\n",
      "Requirement already satisfied: charset-normalizer<3,>=2 in c:\\users\\sarawute\\anaconda3\\envs\\aisproject\\lib\\site-packages (from requests->torchvision->face-detection==1.0.5) (2.0.4)\n",
      "Requirement already satisfied: certifi>=2017.4.17 in c:\\users\\sarawute\\anaconda3\\envs\\aisproject\\lib\\site-packages (from requests->torchvision->face-detection==1.0.5) (2022.6.15)\n",
      "Requirement already satisfied: urllib3<1.27,>=1.21.1 in c:\\users\\sarawute\\anaconda3\\envs\\aisproject\\lib\\site-packages (from requests->torchvision->face-detection==1.0.5) (1.26.9)\n",
      "Requirement already satisfied: idna<4,>=2.5 in c:\\users\\sarawute\\anaconda3\\envs\\aisproject\\lib\\site-packages (from requests->torchvision->face-detection==1.0.5) (3.3)\n",
      "Requirement already satisfied: opencv-python in c:\\users\\sarawute\\anaconda3\\envs\\aisproject\\lib\\site-packages (4.6.0.66)\n",
      "Requirement already satisfied: numpy>=1.17.3 in c:\\users\\sarawute\\anaconda3\\envs\\aisproject\\lib\\site-packages (from opencv-python) (1.23.1)\n"
     ]
    }
   ],
   "source": [
    "!pip install opencv-python"
   ]
  },
  {
   "cell_type": "code",
   "execution_count": 23,
   "id": "5a23dd81",
   "metadata": {},
   "outputs": [
    {
     "name": "stdout",
     "output_type": "stream",
     "text": [
      "Requirement already satisfied: matplotlib in c:\\users\\sarawute\\anaconda3\\envs\\aisproject\\lib\\site-packages (3.5.2)\n",
      "Requirement already satisfied: fonttools>=4.22.0 in c:\\users\\sarawute\\anaconda3\\envs\\aisproject\\lib\\site-packages (from matplotlib) (4.34.4)\n",
      "Requirement already satisfied: kiwisolver>=1.0.1 in c:\\users\\sarawute\\anaconda3\\envs\\aisproject\\lib\\site-packages (from matplotlib) (1.4.4)\n",
      "Requirement already satisfied: pillow>=6.2.0 in c:\\users\\sarawute\\anaconda3\\envs\\aisproject\\lib\\site-packages (from matplotlib) (9.2.0)\n",
      "Requirement already satisfied: cycler>=0.10 in c:\\users\\sarawute\\anaconda3\\envs\\aisproject\\lib\\site-packages (from matplotlib) (0.11.0)\n",
      "Requirement already satisfied: pyparsing>=2.2.1 in c:\\users\\sarawute\\anaconda3\\envs\\aisproject\\lib\\site-packages (from matplotlib) (3.0.9)\n",
      "Requirement already satisfied: packaging>=20.0 in c:\\users\\sarawute\\anaconda3\\envs\\aisproject\\lib\\site-packages (from matplotlib) (21.3)\n",
      "Requirement already satisfied: python-dateutil>=2.7 in c:\\users\\sarawute\\anaconda3\\envs\\aisproject\\lib\\site-packages (from matplotlib) (2.8.2)\n",
      "Requirement already satisfied: numpy>=1.17 in c:\\users\\sarawute\\anaconda3\\envs\\aisproject\\lib\\site-packages (from matplotlib) (1.23.1)\n",
      "Requirement already satisfied: six>=1.5 in c:\\users\\sarawute\\anaconda3\\envs\\aisproject\\lib\\site-packages (from python-dateutil>=2.7->matplotlib) (1.16.0)\n"
     ]
    }
   ],
   "source": [
    "!pip install matplotlib"
   ]
  },
  {
   "cell_type": "code",
   "execution_count": 9,
   "id": "cebc0841",
   "metadata": {},
   "outputs": [],
   "source": [
    "!python demo.py  --snapshot 6DRepNet_300W_LP_AFLW2000.pth --cam 0"
   ]
  },
  {
   "cell_type": "code",
   "execution_count": null,
   "id": "4059e256",
   "metadata": {
    "scrolled": true
   },
   "outputs": [
    {
     "name": "stdout",
     "output_type": "stream",
     "text": [
      "Loading data.\n",
      "odict_keys(['layer0.rbr_reparam.weight', 'layer0.rbr_reparam.bias', 'layer1.0.rbr_reparam.weight', 'layer1.0.rbr_reparam.bias', 'layer1.1.rbr_reparam.weight', 'layer1.1.rbr_reparam.bias', 'layer1.2.rbr_reparam.weight', 'layer1.2.rbr_reparam.bias', 'layer1.3.rbr_reparam.weight', 'layer1.3.rbr_reparam.bias', 'layer2.0.rbr_reparam.weight', 'layer2.0.rbr_reparam.bias', 'layer2.1.rbr_reparam.weight', 'layer2.1.rbr_reparam.bias', 'layer2.2.rbr_reparam.weight', 'layer2.2.rbr_reparam.bias', 'layer2.3.rbr_reparam.weight', 'layer2.3.rbr_reparam.bias', 'layer2.4.rbr_reparam.weight', 'layer2.4.rbr_reparam.bias', 'layer2.5.rbr_reparam.weight', 'layer2.5.rbr_reparam.bias', 'layer3.0.rbr_reparam.weight', 'layer3.0.rbr_reparam.bias', 'layer3.1.rbr_reparam.weight', 'layer3.1.rbr_reparam.bias', 'layer3.2.rbr_reparam.weight', 'layer3.2.rbr_reparam.bias', 'layer3.3.rbr_reparam.weight', 'layer3.3.rbr_reparam.bias', 'layer3.4.rbr_reparam.weight', 'layer3.4.rbr_reparam.bias', 'layer3.5.rbr_reparam.weight', 'layer3.5.rbr_reparam.bias', 'layer3.6.rbr_reparam.weight', 'layer3.6.rbr_reparam.bias', 'layer3.7.rbr_reparam.weight', 'layer3.7.rbr_reparam.bias', 'layer3.8.rbr_reparam.weight', 'layer3.8.rbr_reparam.bias', 'layer3.9.rbr_reparam.weight', 'layer3.9.rbr_reparam.bias', 'layer3.10.rbr_reparam.weight', 'layer3.10.rbr_reparam.bias', 'layer3.11.rbr_reparam.weight', 'layer3.11.rbr_reparam.bias', 'layer3.12.rbr_reparam.weight', 'layer3.12.rbr_reparam.bias', 'layer3.13.rbr_reparam.weight', 'layer3.13.rbr_reparam.bias', 'layer3.14.rbr_reparam.weight', 'layer3.14.rbr_reparam.bias', 'layer3.15.rbr_reparam.weight', 'layer3.15.rbr_reparam.bias', 'layer4.0.rbr_reparam.weight', 'layer4.0.rbr_reparam.bias', 'linear_reg.weight', 'linear_reg.bias'])\n"
     ]
    }
   ],
   "source": [
    "from face_detection import RetinaFace\n",
    "from model import SixDRepNet\n",
    "import math\n",
    "import re\n",
    "from matplotlib import pyplot as plt\n",
    "import sys\n",
    "import os\n",
    "import argparse\n",
    "import pprint\n",
    "import re\n",
    "\n",
    "import numpy as np\n",
    "import cv2\n",
    "import matplotlib.pyplot as plt\n",
    "from numpy.lib.function_base import _quantile_unchecked\n",
    "\n",
    "import torch\n",
    "import torch.nn as nn\n",
    "from torch.utils.data import DataLoader\n",
    "from torchvision import transforms\n",
    "import torch.backends.cudnn as cudnn\n",
    "import torchvision\n",
    "import torch.nn.functional as F\n",
    "import utils\n",
    "import matplotlib\n",
    "from PIL import Image\n",
    "\n",
    "matplotlib.use('TkAgg')\n",
    "from collections import OrderedDict\n",
    "\n",
    "\n",
    "\n",
    "\n",
    "transformations = transforms.Compose([transforms.Resize(224),\n",
    "                                      transforms.CenterCrop(224),\n",
    "                                      transforms.ToTensor(),\n",
    "                                      transforms.Normalize(mean=[0.485, 0.456, 0.406], std=[0.229, 0.224, 0.225])])\n",
    "\n",
    "if __name__ == '__main__':\n",
    "\n",
    "    cudnn.enabled = True\n",
    "    cam = 0\n",
    "    snapshot_path = \"C:\\\\Users\\\\sarawute\\\\Desktop\\\\6DRepNet\\\\6DRepNet_300W_LP_AFLW2000.pth\"\n",
    "    model = SixDRepNet(backbone_name='RepVGG-B1g2',\n",
    "                       backbone_file='',\n",
    "                       deploy=True,\n",
    "                       pretrained=False)\n",
    "\n",
    "    print('Loading data.')\n",
    "\n",
    "\n",
    "    detector = RetinaFace()\n",
    "\n",
    "\n",
    "\n",
    "\n",
    "\n",
    "    # Load snapshot\n",
    "    saved_state_dict = torch.load(os.path.join(\n",
    "        snapshot_path), map_location='cpu')\n",
    "    \n",
    "    print(saved_state_dict.keys())\n",
    "    \n",
    "\n",
    "\n",
    "    if 'model_state_dict' in saved_state_dict:\n",
    "\n",
    "        model.load_state_dict(saved_state_dict['model_state_dict'])\n",
    "    else:\n",
    "        model.load_state_dict(saved_state_dict)\n",
    "\n",
    "    # Test the Model\n",
    "    model.eval()  # Change model to 'eval' mode (BN uses moving mean/var).\n",
    "\n",
    "    cap = cv2.VideoCapture(cam)\n",
    "\n",
    "    # Check if the webcam is opened correctly\n",
    "    if not cap.isOpened():\n",
    "        raise IOError(\"Cannot open webcam\")\n",
    "\n",
    "    with torch.no_grad():\n",
    "        while True:\n",
    "            ret, frame = cap.read()\n",
    "\n",
    "            faces = detector(frame)\n",
    "\n",
    "            for box, landmarks, score in faces:\n",
    "\n",
    "                # Print the location of each face in this image\n",
    "                if score < .95:\n",
    "                    continue\n",
    "                x_min = int(box[0])\n",
    "                y_min = int(box[1])\n",
    "                x_max = int(box[2])\n",
    "                y_max = int(box[3])\n",
    "                bbox_width = abs(x_max - x_min)\n",
    "                bbox_height = abs(y_max - y_min)\n",
    "\n",
    "                x_min = max(0, x_min-int(0.2*bbox_height))\n",
    "                y_min = max(0, y_min-int(0.2*bbox_width))\n",
    "                x_max = x_max+int(0.2*bbox_height)\n",
    "                y_max = y_max+int(0.2*bbox_width)\n",
    "\n",
    "                img = frame[y_min:y_max, x_min:x_max]\n",
    "                img = Image.fromarray(img)\n",
    "                img = img.convert('RGB')\n",
    "                img = transformations(img)\n",
    "\n",
    "                img = torch.Tensor(img[None, :])\n",
    "\n",
    "                c = cv2.waitKey(1)\n",
    "                if c == 27:\n",
    "                    break\n",
    "\n",
    "                R_pred = model(img)\n",
    "   \n",
    "\n",
    "                euler = utils.compute_euler_angles_from_rotation_matrices(\n",
    "                    R_pred)*180/np.pi\n",
    "                p_pred_deg = euler[:, 0].cpu()\n",
    "                y_pred_deg = euler[:, 1].cpu()\n",
    "                r_pred_deg = euler[:, 2].cpu()\n",
    "\n",
    "                #utils.draw_axis(frame, y_pred_deg, p_pred_deg, r_pred_deg, left+int(.5*(right-left)), top, size=100)\n",
    "                utils.plot_pose_cube(frame,  y_pred_deg, p_pred_deg, r_pred_deg, x_min + int(.5*(\n",
    "                    x_max-x_min)), y_min + int(.5*(y_max-y_min)), size=bbox_width)\n",
    "\n",
    "            cv2.imshow(\"Demo\", frame)\n",
    "            cv2.waitKey(5)\n"
   ]
  },
  {
   "cell_type": "code",
   "execution_count": null,
   "id": "053807ae",
   "metadata": {},
   "outputs": [],
   "source": []
  },
  {
   "cell_type": "code",
   "execution_count": null,
   "id": "647c5a3b",
   "metadata": {},
   "outputs": [],
   "source": []
  }
 ],
 "metadata": {
  "kernelspec": {
   "display_name": "Ais2",
   "language": "python",
   "name": "ais2"
  },
  "language_info": {
   "codemirror_mode": {
    "name": "ipython",
    "version": 3
   },
   "file_extension": ".py",
   "mimetype": "text/x-python",
   "name": "python",
   "nbconvert_exporter": "python",
   "pygments_lexer": "ipython3",
   "version": "3.10.5"
  }
 },
 "nbformat": 4,
 "nbformat_minor": 5
}
